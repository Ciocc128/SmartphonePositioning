{
 "cells": [
  {
   "cell_type": "code",
   "execution_count": 21,
   "metadata": {},
   "outputs": [
    {
     "data": {
      "text/html": [
       "<div>\n",
       "<style scoped>\n",
       "    .dataframe tbody tr th:only-of-type {\n",
       "        vertical-align: middle;\n",
       "    }\n",
       "\n",
       "    .dataframe tbody tr th {\n",
       "        vertical-align: top;\n",
       "    }\n",
       "\n",
       "    .dataframe thead th {\n",
       "        text-align: right;\n",
       "    }\n",
       "</style>\n",
       "<table border=\"1\" class=\"dataframe\">\n",
       "  <thead>\n",
       "    <tr style=\"text-align: right;\">\n",
       "      <th></th>\n",
       "      <th>X</th>\n",
       "      <th>Y</th>\n",
       "      <th>Z</th>\n",
       "      <th>Subject</th>\n",
       "      <th>Test</th>\n",
       "      <th>Trial</th>\n",
       "      <th>Bout</th>\n",
       "      <th>Position</th>\n",
       "      <th>Sensor</th>\n",
       "    </tr>\n",
       "  </thead>\n",
       "  <tbody>\n",
       "    <tr>\n",
       "      <th>0</th>\n",
       "      <td>-9.184573</td>\n",
       "      <td>-1.293460</td>\n",
       "      <td>-23.679140</td>\n",
       "      <td>15</td>\n",
       "      <td>10</td>\n",
       "      <td>4</td>\n",
       "      <td>19</td>\n",
       "      <td>2</td>\n",
       "      <td>2</td>\n",
       "    </tr>\n",
       "    <tr>\n",
       "      <th>1</th>\n",
       "      <td>-10.662604</td>\n",
       "      <td>3.742293</td>\n",
       "      <td>-29.467398</td>\n",
       "      <td>15</td>\n",
       "      <td>10</td>\n",
       "      <td>4</td>\n",
       "      <td>19</td>\n",
       "      <td>2</td>\n",
       "      <td>2</td>\n",
       "    </tr>\n",
       "    <tr>\n",
       "      <th>2</th>\n",
       "      <td>-9.934727</td>\n",
       "      <td>7.231469</td>\n",
       "      <td>-34.095785</td>\n",
       "      <td>15</td>\n",
       "      <td>10</td>\n",
       "      <td>4</td>\n",
       "      <td>19</td>\n",
       "      <td>2</td>\n",
       "      <td>2</td>\n",
       "    </tr>\n",
       "    <tr>\n",
       "      <th>3</th>\n",
       "      <td>-11.820318</td>\n",
       "      <td>9.267934</td>\n",
       "      <td>-37.317568</td>\n",
       "      <td>15</td>\n",
       "      <td>10</td>\n",
       "      <td>4</td>\n",
       "      <td>19</td>\n",
       "      <td>2</td>\n",
       "      <td>2</td>\n",
       "    </tr>\n",
       "    <tr>\n",
       "      <th>4</th>\n",
       "      <td>-16.592589</td>\n",
       "      <td>11.439007</td>\n",
       "      <td>-37.438764</td>\n",
       "      <td>15</td>\n",
       "      <td>10</td>\n",
       "      <td>4</td>\n",
       "      <td>19</td>\n",
       "      <td>2</td>\n",
       "      <td>2</td>\n",
       "    </tr>\n",
       "  </tbody>\n",
       "</table>\n",
       "</div>"
      ],
      "text/plain": [
       "           X          Y          Z  Subject  Test  Trial  Bout  Position  \\\n",
       "0  -9.184573  -1.293460 -23.679140       15    10      4    19         2   \n",
       "1 -10.662604   3.742293 -29.467398       15    10      4    19         2   \n",
       "2  -9.934727   7.231469 -34.095785       15    10      4    19         2   \n",
       "3 -11.820318   9.267934 -37.317568       15    10      4    19         2   \n",
       "4 -16.592589  11.439007 -37.438764       15    10      4    19         2   \n",
       "\n",
       "   Sensor  \n",
       "0       2  \n",
       "1       2  \n",
       "2       2  \n",
       "3       2  \n",
       "4       2  "
      ]
     },
     "metadata": {},
     "output_type": "display_data"
    },
    {
     "data": {
      "text/html": [
       "<div>\n",
       "<style scoped>\n",
       "    .dataframe tbody tr th:only-of-type {\n",
       "        vertical-align: middle;\n",
       "    }\n",
       "\n",
       "    .dataframe tbody tr th {\n",
       "        vertical-align: top;\n",
       "    }\n",
       "\n",
       "    .dataframe thead th {\n",
       "        text-align: right;\n",
       "    }\n",
       "</style>\n",
       "<table border=\"1\" class=\"dataframe\">\n",
       "  <thead>\n",
       "    <tr style=\"text-align: right;\">\n",
       "      <th></th>\n",
       "      <th>X</th>\n",
       "      <th>Y</th>\n",
       "      <th>Z</th>\n",
       "      <th>Subject</th>\n",
       "      <th>Test</th>\n",
       "      <th>Trial</th>\n",
       "      <th>Bout</th>\n",
       "      <th>Position</th>\n",
       "      <th>Sensor</th>\n",
       "    </tr>\n",
       "  </thead>\n",
       "  <tbody>\n",
       "    <tr>\n",
       "      <th>count</th>\n",
       "      <td>3.308387e+07</td>\n",
       "      <td>3.308387e+07</td>\n",
       "      <td>3.308387e+07</td>\n",
       "      <td>3.308387e+07</td>\n",
       "      <td>3.308387e+07</td>\n",
       "      <td>3.308387e+07</td>\n",
       "      <td>3.308387e+07</td>\n",
       "      <td>3.308387e+07</td>\n",
       "      <td>33083870.0</td>\n",
       "    </tr>\n",
       "    <tr>\n",
       "      <th>mean</th>\n",
       "      <td>1.985603e+00</td>\n",
       "      <td>6.308458e-01</td>\n",
       "      <td>-5.067779e-01</td>\n",
       "      <td>1.098353e+01</td>\n",
       "      <td>9.507830e+00</td>\n",
       "      <td>3.540173e+00</td>\n",
       "      <td>1.386665e+01</td>\n",
       "      <td>2.447029e+00</td>\n",
       "      <td>1.5</td>\n",
       "    </tr>\n",
       "    <tr>\n",
       "      <th>std</th>\n",
       "      <td>4.737639e+01</td>\n",
       "      <td>5.334057e+01</td>\n",
       "      <td>3.565786e+01</td>\n",
       "      <td>7.555066e+00</td>\n",
       "      <td>1.270847e+00</td>\n",
       "      <td>1.055149e+00</td>\n",
       "      <td>1.206110e+01</td>\n",
       "      <td>1.704941e+00</td>\n",
       "      <td>0.5</td>\n",
       "    </tr>\n",
       "    <tr>\n",
       "      <th>min</th>\n",
       "      <td>-1.146740e+03</td>\n",
       "      <td>-1.146565e+03</td>\n",
       "      <td>-1.146740e+03</td>\n",
       "      <td>1.000000e+00</td>\n",
       "      <td>4.000000e+00</td>\n",
       "      <td>1.000000e+00</td>\n",
       "      <td>1.000000e+00</td>\n",
       "      <td>0.000000e+00</td>\n",
       "      <td>1.0</td>\n",
       "    </tr>\n",
       "    <tr>\n",
       "      <th>25%</th>\n",
       "      <td>-8.966019e+00</td>\n",
       "      <td>-7.062935e+00</td>\n",
       "      <td>-5.192921e+00</td>\n",
       "      <td>3.000000e+00</td>\n",
       "      <td>1.000000e+01</td>\n",
       "      <td>4.000000e+00</td>\n",
       "      <td>3.000000e+00</td>\n",
       "      <td>1.000000e+00</td>\n",
       "      <td>1.0</td>\n",
       "    </tr>\n",
       "    <tr>\n",
       "      <th>50%</th>\n",
       "      <td>4.846773e+00</td>\n",
       "      <td>3.273733e-01</td>\n",
       "      <td>-5.717805e-01</td>\n",
       "      <td>9.000000e+00</td>\n",
       "      <td>1.000000e+01</td>\n",
       "      <td>4.000000e+00</td>\n",
       "      <td>1.000000e+01</td>\n",
       "      <td>2.000000e+00</td>\n",
       "      <td>1.5</td>\n",
       "    </tr>\n",
       "    <tr>\n",
       "      <th>75%</th>\n",
       "      <td>1.112189e+01</td>\n",
       "      <td>9.004566e+00</td>\n",
       "      <td>4.525622e+00</td>\n",
       "      <td>1.700000e+01</td>\n",
       "      <td>1.000000e+01</td>\n",
       "      <td>4.000000e+00</td>\n",
       "      <td>2.400000e+01</td>\n",
       "      <td>4.000000e+00</td>\n",
       "      <td>2.0</td>\n",
       "    </tr>\n",
       "    <tr>\n",
       "      <th>max</th>\n",
       "      <td>1.146740e+03</td>\n",
       "      <td>1.146740e+03</td>\n",
       "      <td>9.167756e+02</td>\n",
       "      <td>2.500000e+01</td>\n",
       "      <td>1.000000e+01</td>\n",
       "      <td>4.000000e+00</td>\n",
       "      <td>7.200000e+01</td>\n",
       "      <td>5.000000e+00</td>\n",
       "      <td>2.0</td>\n",
       "    </tr>\n",
       "  </tbody>\n",
       "</table>\n",
       "</div>"
      ],
      "text/plain": [
       "                  X             Y             Z       Subject          Test  \\\n",
       "count  3.308387e+07  3.308387e+07  3.308387e+07  3.308387e+07  3.308387e+07   \n",
       "mean   1.985603e+00  6.308458e-01 -5.067779e-01  1.098353e+01  9.507830e+00   \n",
       "std    4.737639e+01  5.334057e+01  3.565786e+01  7.555066e+00  1.270847e+00   \n",
       "min   -1.146740e+03 -1.146565e+03 -1.146740e+03  1.000000e+00  4.000000e+00   \n",
       "25%   -8.966019e+00 -7.062935e+00 -5.192921e+00  3.000000e+00  1.000000e+01   \n",
       "50%    4.846773e+00  3.273733e-01 -5.717805e-01  9.000000e+00  1.000000e+01   \n",
       "75%    1.112189e+01  9.004566e+00  4.525622e+00  1.700000e+01  1.000000e+01   \n",
       "max    1.146740e+03  1.146740e+03  9.167756e+02  2.500000e+01  1.000000e+01   \n",
       "\n",
       "              Trial          Bout      Position      Sensor  \n",
       "count  3.308387e+07  3.308387e+07  3.308387e+07  33083870.0  \n",
       "mean   3.540173e+00  1.386665e+01  2.447029e+00         1.5  \n",
       "std    1.055149e+00  1.206110e+01  1.704941e+00         0.5  \n",
       "min    1.000000e+00  1.000000e+00  0.000000e+00         1.0  \n",
       "25%    4.000000e+00  3.000000e+00  1.000000e+00         1.0  \n",
       "50%    4.000000e+00  1.000000e+01  2.000000e+00         1.5  \n",
       "75%    4.000000e+00  2.400000e+01  4.000000e+00         2.0  \n",
       "max    4.000000e+00  7.200000e+01  5.000000e+00         2.0  "
      ]
     },
     "metadata": {},
     "output_type": "display_data"
    },
    {
     "name": "stdout",
     "output_type": "stream",
     "text": [
      "<class 'pandas.core.frame.DataFrame'>\n",
      "RangeIndex: 33083870 entries, 0 to 33083869\n",
      "Data columns (total 9 columns):\n",
      " #   Column    Dtype  \n",
      "---  ------    -----  \n",
      " 0   X         float64\n",
      " 1   Y         float64\n",
      " 2   Z         float64\n",
      " 3   Subject   int64  \n",
      " 4   Test      int64  \n",
      " 5   Trial     int64  \n",
      " 6   Bout      int64  \n",
      " 7   Position  int64  \n",
      " 8   Sensor    int64  \n",
      "dtypes: float64(3), int64(6)\n",
      "memory usage: 2.2 GB\n"
     ]
    },
    {
     "data": {
      "text/plain": [
       "None"
      ]
     },
     "metadata": {},
     "output_type": "display_data"
    }
   ],
   "source": [
    "import pandas as pd\n",
    "\n",
    "data = pd.read_csv(\"/Volumes/Mac/DatasetSP/preprocessed/combined_dataset.csv\")\n",
    "\n",
    "display(data.head())\n",
    "display(data.describe())\n",
    "display(data.info())"
   ]
  },
  {
   "cell_type": "code",
   "execution_count": 22,
   "metadata": {},
   "outputs": [
    {
     "name": "stdout",
     "output_type": "stream",
     "text": [
      "<class 'pandas.core.frame.DataFrame'>\n",
      "RangeIndex: 33083870 entries, 0 to 33083869\n",
      "Data columns (total 9 columns):\n",
      " #   Column    Dtype  \n",
      "---  ------    -----  \n",
      " 0   X         float64\n",
      " 1   Y         float64\n",
      " 2   Z         float64\n",
      " 3   Subject   int64  \n",
      " 4   Test      int64  \n",
      " 5   Trial     int64  \n",
      " 6   Bout      int64  \n",
      " 7   Position  int64  \n",
      " 8   Sensor    int64  \n",
      "dtypes: float64(3), int64(6)\n",
      "memory usage: 2.2 GB\n",
      "None\n"
     ]
    }
   ],
   "source": [
    "print(data.info(memory_usage=\"deep\"))\n"
   ]
  },
  {
   "cell_type": "code",
   "execution_count": 23,
   "metadata": {},
   "outputs": [
    {
     "name": "stdout",
     "output_type": "stream",
     "text": [
      "<class 'pandas.core.frame.DataFrame'>\n",
      "RangeIndex: 33083870 entries, 0 to 33083869\n",
      "Data columns (total 9 columns):\n",
      " #   Column    Dtype  \n",
      "---  ------    -----  \n",
      " 0   X         float64\n",
      " 1   Y         float64\n",
      " 2   Z         float64\n",
      " 3   Subject   int64  \n",
      " 4   Test      int8   \n",
      " 5   Trial     int8   \n",
      " 6   Bout      int16  \n",
      " 7   Position  int8   \n",
      " 8   Sensor    int8   \n",
      "dtypes: float64(3), int16(1), int64(1), int8(4)\n",
      "memory usage: 1.2 GB\n",
      "None\n"
     ]
    }
   ],
   "source": [
    "data[\"Test\"] = data[\"Test\"].astype(\"int8\")  # Colonna Test\n",
    "data[\"Trial\"] = data[\"Trial\"].astype(\"int8\")  # Colonna Trial\n",
    "data[\"Sensor\"] = data[\"Sensor\"].astype(\"int8\")  # Colonna Sensor\n",
    "data[\"Position\"] = data[\"Position\"].astype(\"int8\")  # Posizione ha pochi valori unici\n",
    "data[\"Bout\"] = data[\"Bout\"].astype(\"int16\")  # Bout ha valori piccoli\n",
    "\n",
    "print(data.info(memory_usage=\"deep\"))\n"
   ]
  },
  {
   "cell_type": "code",
   "execution_count": 24,
   "metadata": {},
   "outputs": [
    {
     "name": "stdout",
     "output_type": "stream",
     "text": [
      "Position\n",
      "0    5720772\n",
      "2    5670492\n",
      "1    5670492\n",
      "3    5425970\n",
      "4    5312914\n",
      "5    5283230\n",
      "Name: count, dtype: int64\n"
     ]
    }
   ],
   "source": [
    "position_counts = data[\"Position\"].value_counts()\n",
    "\n",
    "print(position_counts)"
   ]
  },
  {
   "cell_type": "code",
   "execution_count": 25,
   "metadata": {},
   "outputs": [
    {
     "data": {
      "image/png": "[encoded data removed]",
      "text/plain": [
       "<Figure size 640x480 with 1 Axes>"
      ]
     },
     "metadata": {},
     "output_type": "display_data"
    }
   ],
   "source": [
    "import matplotlib.pyplot as plt\n",
    "position_counts.plot(kind=\"bar\", title=\"Distribuzione dei Campioni per Posizione\")\n",
    "plt.xlabel(\"Posizione\")\n",
    "plt.ylabel(\"Numero di Campioni\")\n",
    "plt.xticks(ticks=range(len(position_counts)), labels=[\"Lower Back\", \"Front Pocket\", \"Back Pocket\", \"Hand\", \"Shoulder Bag\", \"Coat Pocket\"], rotation=45)\n",
    "plt.show()"
   ]
  },
  {
   "cell_type": "code",
   "execution_count": 26,
   "metadata": {},
   "outputs": [
    {
     "name": "stdout",
     "output_type": "stream",
     "text": [
      "Numero di walking bout per posizione:\n",
      "Position\n",
      "0    645\n",
      "1    621\n",
      "2    621\n",
      "3    519\n",
      "4    499\n",
      "5    522\n",
      "dtype: int64\n"
     ]
    }
   ],
   "source": [
    "bout_per_position = data.groupby([\"Subject\", \"Position\", \"Test\", \"Trial\", \"Bout\"]).size().reset_index()\n",
    "position_counts = bout_per_position.groupby(\"Position\").size()\n",
    "\n",
    "# Mostra i risultati\n",
    "print(\"Numero di walking bout per posizione:\")\n",
    "print(position_counts)\n"
   ]
  },
  {
   "cell_type": "code",
   "execution_count": 7,
   "metadata": {},
   "outputs": [
    {
     "name": "stdout",
     "output_type": "stream",
     "text": [
      "Numero di walking bout per posizione per il soggetto 17:\n",
      "Position\n",
      "0    39\n",
      "1    39\n",
      "2    35\n",
      "3    29\n",
      "4    39\n",
      "5    32\n",
      "dtype: int64\n"
     ]
    }
   ],
   "source": [
    "# Seleziona un soggetto specifico\n",
    "subject_id = 17  # Cambia con l'ID del soggetto desiderato\n",
    "subject_data = data[data[\"Subject\"] == subject_id]\n",
    "\n",
    "# Conta i walking bout unici per posizione\n",
    "bout_per_position = subject_data.groupby([\"Position\", \"Test\", \"Trial\", \"Bout\"]).size().reset_index()\n",
    "position_counts = bout_per_position.groupby(\"Position\").size()\n",
    "\n",
    "# Mostra i risultati\n",
    "print(f\"Numero di walking bout per posizione per il soggetto {subject_id}:\")\n",
    "print(position_counts)\n"
   ]
  },
  {
   "cell_type": "code",
   "execution_count": 27,
   "metadata": {},
   "outputs": [
    {
     "name": "stdout",
     "output_type": "stream",
     "text": [
      "                  X          Y          Z  Subject  Test  Trial  Bout  \\\n",
      "0         -9.184573  -1.293460 -23.679140       15    10      4    19   \n",
      "5578      -9.072355   2.715275   3.516798       15    10      4    12   \n",
      "7196       9.555000 -49.980001 -20.300000       15     5      3     1   \n",
      "7893       9.516663  -4.751321  -0.231034       15    10      4     3   \n",
      "57693    -17.158626   9.495543  -3.534042       15    10      4    27   \n",
      "...             ...        ...        ...      ...   ...    ...   ...   \n",
      "33076021   4.791554  10.251594   4.451716        2    10      4    33   \n",
      "33080716   7.548117  -4.540772  15.129644        2    10      4    29   \n",
      "33081209   5.847838  -4.056975 -10.256761        2     6      1     1   \n",
      "33081590 -14.892865  19.909968  46.549647        2    10      4    30   \n",
      "33082806  11.955846   6.034984  -9.207302        2     5      2     1   \n",
      "\n",
      "          Position  Sensor  Sensor_Change  \n",
      "0                2       2           True  \n",
      "5578             3       1           True  \n",
      "7196             4       2           True  \n",
      "7893             5       1           True  \n",
      "57693            0       2           True  \n",
      "...            ...     ...            ...  \n",
      "33076021         0       1           True  \n",
      "33080716         4       2           True  \n",
      "33081209         2       1           True  \n",
      "33081590         0       2           True  \n",
      "33082806         5       1           True  \n",
      "\n",
      "[2896 rows x 10 columns]\n"
     ]
    }
   ],
   "source": [
    "# Crea una colonna che identifica i cambi di sensore\n",
    "data[\"Sensor_Change\"] = data[\"Sensor\"] != data[\"Sensor\"].shift()\n",
    "\n",
    "# Visualizza le righe dove il sensore cambia\n",
    "print(data[data[\"Sensor_Change\"]])"
   ]
  },
  {
   "cell_type": "code",
   "execution_count": 35,
   "metadata": {},
   "outputs": [],
   "source": [
    "# Ordina i dati per Subject, Trial, Bout, Sensor, e poi per indice\n",
    "df = data.sort_values(by=[\"Subject\", \"Test\", \"Trial\", \"Bout\", \"Position\", \"Sensor\"]).reset_index(drop=True)"
   ]
  },
  {
   "cell_type": "code",
   "execution_count": 36,
   "metadata": {},
   "outputs": [
    {
     "name": "stdout",
     "output_type": "stream",
     "text": [
      "            X         Y         Z  Subject  Test  Trial  Bout  Position  \\\n",
      "0    9.363723  0.754174 -1.788469        1     4      1     1         0   \n",
      "1    9.375694  0.842759 -1.793257        1     4      1     1         0   \n",
      "2    9.527327  0.757366 -1.889823        1     4      1     1         0   \n",
      "3    9.794679  0.524330 -2.061408        1     4      1     1         0   \n",
      "4   10.086772  0.177171 -2.303222        1     4      1     1         0   \n",
      "5   10.553641 -0.322020 -2.644396        1     4      1     1         0   \n",
      "6   10.918757 -0.751779 -2.955642        1     4      1     1         0   \n",
      "7   11.287863 -1.282494 -3.327142        1     4      1     1         0   \n",
      "8   11.580753 -1.628057 -3.550601        1     4      1     1         0   \n",
      "9   11.828554 -1.783680 -3.752911        1     4      1     1         0   \n",
      "10  11.874044 -1.771709 -3.781641        1     4      1     1         0   \n",
      "11  11.790247 -1.567005 -3.672705        1     4      1     1         0   \n",
      "12  11.542446 -1.194707 -3.442862        1     4      1     1         0   \n",
      "13  11.102711 -0.603339 -3.253720        1     4      1     1         0   \n",
      "14  10.737994 -0.102951 -3.154361        1     4      1     1         0   \n",
      "15  10.441912  0.341573 -3.095703        1     4      1     1         0   \n",
      "16  10.333375  0.684742 -3.066972        1     4      1     1         0   \n",
      "17  10.224438  0.887052 -3.062184        1     4      1     1         0   \n",
      "18  10.084377  0.902614 -3.028665        1     4      1     1         0   \n",
      "19   9.883265  0.751779 -2.987166        1     4      1     1         0   \n",
      "20   9.586384  0.567426 -3.021483        1     4      1     1         0   \n",
      "21   9.100360  0.294487 -3.169923        1     4      1     1         0   \n",
      "22   8.434772 -0.008380 -3.466804        1     4      1     1         0   \n",
      "23   7.939173 -0.179565 -3.677494        1     4      1     1         0   \n",
      "24   7.266402 -0.316035 -3.886986        1     4      1     1         0   \n",
      "25   6.773197 -0.390255 -4.029441        1     4      1     1         0   \n",
      "26   6.311116 -0.468066 -4.207810        1     4      1     1         0   \n",
      "27   6.119579 -0.500388 -4.309563        1     4      1     1         0   \n",
      "28   6.093243 -0.433351 -4.426879        1     4      1     1         0   \n",
      "29   6.329072 -0.281319 -4.552574        1     4      1     1         0   \n",
      "30   6.655881 -0.187945 -4.759673        1     4      1     1         0   \n",
      "31   7.150682 -0.121306 -4.897739        1     4      1     1         0   \n",
      "32   7.671022 -0.155623 -4.941632        1     4      1     1         0   \n",
      "33   8.356961 -0.229843 -4.811148        1     4      1     1         0   \n",
      "34   8.984242 -0.328006 -4.608838        1     4      1     1         0   \n",
      "35   9.400434 -0.475648 -4.257689        1     4      1     1         0   \n",
      "36   9.809045 -0.560243 -4.060566        1     4      1     1         0   \n",
      "37  10.071210 -0.820014 -3.682282        1     4      1     1         0   \n",
      "38  10.067619 -0.919373 -3.488352        1     4      1     1         0   \n",
      "39   9.931947 -1.041478 -3.398968        1     4      1     1         0   \n",
      "40   9.799467 -1.010353 -3.421314        1     4      1     1         0   \n",
      "41   9.786300 -0.918176 -3.438074        1     4      1     1         0   \n",
      "42   9.780314 -0.885855 -3.458424        1     4      1     1         0   \n",
      "43   9.828198 -0.876278 -3.466804        1     4      1     1         0   \n",
      "44   9.763555 -0.790087 -3.459621        1     4      1     1         0   \n",
      "45   9.600749 -0.774524 -3.361459        1     4      1     1         0   \n",
      "46   9.380482 -0.770933 -3.229778        1     4      1     1         0   \n",
      "47   9.209696 -0.793279 -3.139597        1     4      1     1         0   \n",
      "48   9.030929 -0.816423 -3.045424        1     4      1     1         0   \n",
      "49   8.947131 -0.885855 -2.993949        1     4      1     1         0   \n",
      "\n",
      "    Sensor  Sensor_Change  \n",
      "0        1           True  \n",
      "1        1          False  \n",
      "2        1          False  \n",
      "3        1          False  \n",
      "4        1          False  \n",
      "5        1          False  \n",
      "6        1          False  \n",
      "7        1          False  \n",
      "8        1          False  \n",
      "9        1          False  \n",
      "10       1          False  \n",
      "11       1          False  \n",
      "12       1          False  \n",
      "13       1          False  \n",
      "14       1          False  \n",
      "15       1          False  \n",
      "16       1          False  \n",
      "17       1          False  \n",
      "18       1          False  \n",
      "19       1          False  \n",
      "20       1          False  \n",
      "21       1          False  \n",
      "22       1          False  \n",
      "23       1          False  \n",
      "24       1          False  \n",
      "25       1          False  \n",
      "26       1          False  \n",
      "27       1          False  \n",
      "28       1          False  \n",
      "29       1          False  \n",
      "30       1          False  \n",
      "31       1          False  \n",
      "32       1          False  \n",
      "33       1          False  \n",
      "34       1          False  \n",
      "35       1          False  \n",
      "36       1          False  \n",
      "37       1          False  \n",
      "38       1          False  \n",
      "39       1          False  \n",
      "40       1          False  \n",
      "41       1          False  \n",
      "42       1          False  \n",
      "43       1          False  \n",
      "44       1          False  \n",
      "45       1          False  \n",
      "46       1          False  \n",
      "47       1          False  \n",
      "48       1          False  \n",
      "49       1          False  \n"
     ]
    }
   ],
   "source": [
    "print(df.head(50))"
   ]
  },
  {
   "cell_type": "code",
   "execution_count": 33,
   "metadata": {},
   "outputs": [],
   "source": [
    "grouped = df.groupby([\"Subject\", \"Test\", \"Trial\", \"Bout\", \"Position\", \"Sensor\"])"
   ]
  },
  {
   "cell_type": "code",
   "execution_count": 34,
   "metadata": {},
   "outputs": [
    {
     "data": {
      "text/plain": [
       "Subject  Test  Trial  Bout  Position  Sensor\n",
       "1        4     1      1     0         1         1195\n",
       "                                      2         1195\n",
       "                            1         1         1195\n",
       "                                      2         1195\n",
       "                            2         1         1195\n",
       "dtype: int64"
      ]
     },
     "metadata": {},
     "output_type": "display_data"
    }
   ],
   "source": [
    "display(grouped.size().head())"
   ]
  },
  {
   "cell_type": "code",
   "execution_count": 24,
   "metadata": {},
   "outputs": [
    {
     "name": "stdout",
     "output_type": "stream",
     "text": [
      "Subject  Test  Trial\n",
      "1        4     1                                                      [1]\n",
      "               2                                                      [1]\n",
      "               3                                                      [1]\n",
      "         5     1                                                      [1]\n",
      "               2                                                      [1]\n",
      "                                              ...                        \n",
      "25       6     3                                                      [1]\n",
      "         7     1                                                      [1]\n",
      "         8     1                                                      [1]\n",
      "         9     1                                                      [1]\n",
      "         10    4        [1, 2, 3, 4, 5, 6, 7, 8, 9, 10, 11, 12, 13, 14...\n",
      "Name: Bout, Length: 195, dtype: object\n"
     ]
    }
   ],
   "source": [
    "# Mostra i valori univoci di Bout per Subject, Test e Trial\n",
    "print(df.groupby([\"Subject\", \"Test\", \"Trial\"])[\"Bout\"].unique())"
   ]
  },
  {
   "cell_type": "code",
   "execution_count": 32,
   "metadata": {},
   "outputs": [
    {
     "name": "stdout",
     "output_type": "stream",
     "text": [
      "      Subject  Test  Trial  Bout  Sensor  Counts\n",
      "0           1     4      1     1       1    7170\n",
      "1           1     4      1     1       2    7170\n",
      "2           1     4      2     1       1    7380\n",
      "3           1     4      2     1       2    7380\n",
      "4           1     4      3     1       1    7080\n",
      "...       ...   ...    ...   ...     ...     ...\n",
      "1285       25    10      4    24       2  170814\n",
      "1286       25    10      4    25       1   17940\n",
      "1287       25    10      4    25       2   17940\n",
      "1288       25    10      4    26       1    3180\n",
      "1289       25    10      4    26       2    3180\n",
      "\n",
      "[1290 rows x 6 columns]\n"
     ]
    }
   ],
   "source": [
    "# Mostra la dimensione di ciascun gruppo creato\n",
    "print(grouped.size().reset_index(name=\"Counts\"))"
   ]
  }
 ],
 "metadata": {
  "kernelspec": {
   "display_name": "venv",
   "language": "python",
   "name": "python3"
  },
  "language_info": {
   "codemirror_mode": {
    "name": "ipython",
    "version": 3
   },
   "file_extension": ".py",
   "mimetype": "text/x-python",
   "name": "python",
   "nbconvert_exporter": "python",
   "pygments_lexer": "ipython3",
   "version": "3.13.1"
  }
 },
 "nbformat": 4,
 "nbformat_minor": 2
}
